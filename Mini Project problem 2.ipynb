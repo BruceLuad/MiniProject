{
 "cells": [
  {
   "cell_type": "markdown",
   "id": "97552f37",
   "metadata": {},
   "source": [
    "# simulating choosing ends"
   ]
  },
  {
   "cell_type": "code",
   "execution_count": 1,
   "id": "fbcf940f",
   "metadata": {},
   "outputs": [
    {
     "name": "stdout",
     "output_type": "stream",
     "text": [
      "Number of starting strings:  3\n",
      "Number of iterations:  3\n",
      "Number of loops formed:  1\n",
      "Number of strings left:  0\n"
     ]
    }
   ],
   "source": [
    "import random\n",
    "\n",
    "def process(number, iteration):\n",
    "    i = 1\n",
    "    # List of all ends of strings\n",
    "    ends = [f\"{j}a\" for j in range(1, number+1)] + [f\"{j}b\" for j in range(1, number+1)]\n",
    "    while i <= iteration:\n",
    "        i += 1\n",
    "        ends_excluding_loop = [item for item in ends if not item.startswith('0')]\n",
    "        # Randomly choose two ends from the list\n",
    "        chosen = random.sample(ends_excluding_loop, 2)\n",
    "\n",
    "        # Note the strings that are chosen\n",
    "        string_num1, string_num2 = int(chosen[0][:-1]), int(chosen[1][:-1])\n",
    "\n",
    "        # If the two chosen ends are on the same string, remove both ends and put in a loop \"L\"\n",
    "        if string_num1 == string_num2:\n",
    "            l = f\"0L\"\n",
    "            ends.remove(chosen[0])\n",
    "            ends.remove(chosen[1])\n",
    "            ends.append(l)\n",
    "        # Create a new string if two ends are on different strings\n",
    "        else:\n",
    "            new_string_num = max(string_num1, string_num2) + 1 \n",
    "            while new_string_num in [int(item[:-1]) for item in ends if item[:-1] and item[:-1].isdigit()]:\n",
    "                new_string_num += 1\n",
    "            new_string = [f\"{new_string_num}a\", f\"{new_string_num}b\"]  # New variable with both 'a' and 'b'\n",
    "            ends = [item for item in ends if int(item[:-1]) not in [string_num1, string_num2]]\n",
    "            ends.extend(new_string)  # Add the new string back to the list\n",
    "    return ends\n",
    "\n",
    "# Number of starting strings\n",
    "n = 3\n",
    "# Number of iterations\n",
    "i = 3\n",
    "ends = process(n, i)\n",
    "print(\"Number of starting strings: \", n)\n",
    "print(\"Number of iterations: \", i)\n",
    "print(\"Number of loops formed: \", ends.count(\"0L\"))\n",
    "print(\"Number of strings left: \", len(set(int(item[:-1]) for item in ends if item[:-1] and item[:-1] != \"0\")))"
   ]
  },
  {
   "cell_type": "markdown",
   "id": "f5d24495",
   "metadata": {},
   "source": [
    "# simulating a lot of times to generate graphs"
   ]
  },
  {
   "cell_type": "code",
   "execution_count": 2,
   "id": "fa667b17",
   "metadata": {},
   "outputs": [
    {
     "data": {
      "image/png": "[encoded data removed]",
      "text/plain": [
       "<Figure size 432x288 with 1 Axes>"
      ]
     },
     "metadata": {
      "needs_background": "light"
     },
     "output_type": "display_data"
    }
   ],
   "source": [
    "import matplotlib.pyplot as plt\n",
    "from collections import Counter\n",
    "\n",
    "#starting number of strings\n",
    "n = 4\n",
    "#number of iterations\n",
    "i =4\n",
    "#number of simulations\n",
    "s = 100000\n",
    "#list of loop count and string count\n",
    "loops = []\n",
    "strings = []\n",
    "for _ in range(s):\n",
    "    ends = process(n,i)\n",
    "    loops.append(ends.count(\"0L\"))\n",
    "    \n",
    "loops_counter = Counter(loops)\n",
    "num_loops = list(loops_counter.keys())\n",
    "loops_frq = list(loops_counter.values())\n",
    "plt.bar(num_loops, loops_frq, color='skyblue')\n",
    "plt.xlabel('Number of loops')\n",
    "plt.ylabel('Frequency')\n",
    "plt.title('Frequency of number of loops')\n",
    "plt.xticks(num_loops)  # Set the x-axis ticks to be the numbers\n",
    "plt.show()\n"
   ]
  },
  {
   "cell_type": "code",
   "execution_count": 3,
   "id": "beeda5a4",
   "metadata": {},
   "outputs": [
    {
     "name": "stdout",
     "output_type": "stream",
     "text": [
      "mean : 1.67771\n"
     ]
    }
   ],
   "source": [
    "print(\"mean :\", sum(loops) / len(loops))"
   ]
  },
  {
   "cell_type": "code",
   "execution_count": 4,
   "id": "0a459967",
   "metadata": {},
   "outputs": [
    {
     "name": "stdout",
     "output_type": "stream",
     "text": [
      "1.676190476190476\n"
     ]
    }
   ],
   "source": [
    "#sum that I derived\n",
    "expectation = 0\n",
    "for m in range(n-i+1,n+1):\n",
    "    expectation += 1/(2*m-1)\n",
    "print(expectation)"
   ]
  },
  {
   "cell_type": "markdown",
   "id": "313a235b",
   "metadata": {},
   "source": [
    "# Consider length"
   ]
  },
  {
   "cell_type": "code",
   "execution_count": 5,
   "id": "f0731809",
   "metadata": {
    "scrolled": true
   },
   "outputs": [
    {
     "name": "stdout",
     "output_type": "stream",
     "text": [
      "Number of starting strings:  9\n",
      "Number of iterations:  9\n",
      "Number of loops formed:  2\n",
      "Number of strings left:  0\n",
      "Length of loops:  [5, 4]\n"
     ]
    }
   ],
   "source": [
    "import random\n",
    "\n",
    "def lenprocess(number, iteration):\n",
    "    i = 1\n",
    "    # List of all ends of strings\n",
    "    ends = [f\"{j}a1\" for j in range(1, number+1)] + [f\"{j}b1\" for j in range(1, number+1)]\n",
    "    while i <= iteration:\n",
    "        i += 1\n",
    "        # Randomly choose two ends from the list\n",
    "        ends_without_loops = [item for item in ends if not item.startswith('0')]\n",
    "\n",
    "        chosen = random.sample(ends_without_loops, 2)\n",
    "\n",
    "        # Note the strings that are chosen\n",
    "        string_num1, string_num2 = int(chosen[0][:-2]), int(chosen[1][:-2])\n",
    "        length_num1, length_num2 = int(chosen[0][-1:]), int(chosen[1][-1:])\n",
    "        # If the two chosen ends are on the same string, remove both ends and put in a loop \"0L\"\n",
    "        if string_num1 == string_num2:\n",
    "            l = f\"0L{length_num1}\"\n",
    "            ends.remove(chosen[0])\n",
    "            ends.remove(chosen[1])\n",
    "            ends.append(l)\n",
    "        # Create a new string if two ends are on different strings\n",
    "        else:\n",
    "            new_string_num = max(string_num1, string_num2) + 1 \n",
    "            while new_string_num in [int(item[:-2]) for item in ends if item[:-2]]:\n",
    "                new_string_num += 1\n",
    "            new_string = [f\"{new_string_num}a{length_num1+length_num2}\", f\"{new_string_num}b{length_num1+length_num2}\"]  # New variable with both 'a' and 'b'\n",
    "            ends = [item for item in ends if int(item[:-2]) not in [string_num1, string_num2]]\n",
    "            ends.extend(new_string)  # Add the new string back to the list\n",
    "    return ends\n",
    "\n",
    "# Number of starting strings\n",
    "n = 9\n",
    "# Number of iterations\n",
    "i = 9\n",
    "ends = lenprocess(n, i)\n",
    "print(\"Number of starting strings: \", n)\n",
    "print(\"Number of iterations: \", i)\n",
    "print(\"Number of loops formed: \", len([item for item in ends if item[-2] == \"L\"]))\n",
    "print(\"Number of strings left: \", len(set(int(item[:-2]) for item in ends if item[:-2] != \"0\")))\n",
    "print(\"Length of loops: \", [int(item[-1:]) for item in ends if item[-2] == \"L\"])"
   ]
  },
  {
   "cell_type": "code",
   "execution_count": 6,
   "id": "9d87fa70",
   "metadata": {},
   "outputs": [
    {
     "data": {
      "text/plain": [
       "[5, 4]"
      ]
     },
     "execution_count": 6,
     "metadata": {},
     "output_type": "execute_result"
    }
   ],
   "source": [
    "[int(item[-1:]) for item in ends if item[-2] == \"L\"]\n"
   ]
  },
  {
   "cell_type": "code",
   "execution_count": 7,
   "id": "0b946fb6",
   "metadata": {
    "scrolled": false
   },
   "outputs": [
    {
     "data": {
      "image/png": "[encoded data removed]",
      "text/plain": [
       "<Figure size 432x288 with 1 Axes>"
      ]
     },
     "metadata": {
      "needs_background": "light"
     },
     "output_type": "display_data"
    }
   ],
   "source": [
    "#starting number of strings\n",
    "n = 9\n",
    "#number of iterations\n",
    "i = 9\n",
    "#number of simulations\n",
    "s = 100000\n",
    "#list of loop count and string count\n",
    "loops = []\n",
    "lengths = []\n",
    "for _ in range(s):\n",
    "    ends = lenprocess(n,i)\n",
    "    lengths.extend([int(item[-1:]) for item in ends if item[-2] == \"L\"])\n",
    "lengths_counter = Counter(lengths)\n",
    "num_lengths = list(lengths_counter.keys())\n",
    "lengths_frq = list(lengths_counter.values())\n",
    "plt.bar(num_lengths, lengths_frq, color='skyblue')\n",
    "plt.xlabel('Number')\n",
    "plt.ylabel('Frequency')\n",
    "plt.title('Frequency of lengths')\n",
    "plt.xticks(num_lengths)  # Set the x-axis ticks to be the numbers\n",
    "plt.show()"
   ]
  },
  {
   "cell_type": "code",
   "execution_count": 8,
   "id": "05cadfed",
   "metadata": {
    "scrolled": true
   },
   "outputs": [
    {
     "data": {
      "image/png": "[encoded data removed]",
      "text/plain": [
       "<Figure size 432x288 with 1 Axes>"
      ]
     },
     "metadata": {
      "needs_background": "light"
     },
     "output_type": "display_data"
    }
   ],
   "source": [
    "unique_lengths = []\n",
    "for _ in range(s):\n",
    "    ends = lenprocess(n,i)\n",
    "    unique_lengths.extend(set([int(item[-1:]) for item in ends if item[-2] == \"L\"]))\n",
    "unique_lengths_counter = Counter(unique_lengths)\n",
    "num_unique_lengths = list(unique_lengths_counter.keys())\n",
    "unique_lengths_frq = list(unique_lengths_counter.values())\n",
    "plt.bar(num_unique_lengths, unique_lengths_frq, color='skyblue')\n",
    "plt.xlabel('Length')\n",
    "plt.ylabel('Frequency')\n",
    "plt.title('Frequency of unique lengths')\n",
    "plt.xticks(num_unique_lengths)  # Set the x-axis ticks to be the numbers\n",
    "plt.show()"
   ]
  },
  {
   "cell_type": "code",
   "execution_count": 9,
   "id": "5efc9cbe",
   "metadata": {},
   "outputs": [
    {
     "data": {
      "image/png": "[encoded data removed]",
      "text/plain": [
       "<Figure size 432x288 with 1 Axes>"
      ]
     },
     "metadata": {
      "needs_background": "light"
     },
     "output_type": "display_data"
    }
   ],
   "source": [
    "max_lengths = []\n",
    "min_lengths = []\n",
    "for _ in range(s):\n",
    "    ends = lenprocess(n,i)\n",
    "    max_lengths.append(max([int(item[-1:]) for item in ends if item[-2] == \"L\"]))\n",
    "    min_lengths.append(min(int(item[-1:]) for item in ends if item[-2] == \"L\"))\n",
    "max_lengths_counter = Counter(max_lengths)\n",
    "num_max_lengths = list(max_lengths_counter.keys())\n",
    "max_lengths_frq = list(max_lengths_counter.values())\n",
    "plt.bar(num_max_lengths, max_lengths_frq, color='skyblue')\n",
    "plt.xlabel('Number')\n",
    "plt.ylabel('Frequency')\n",
    "plt.title('Frequency of max lengths')\n",
    "plt.xticks(num_max_lengths)  # Set the x-axis ticks to be the numbers\n",
    "plt.show()"
   ]
  },
  {
   "cell_type": "code",
   "execution_count": 10,
   "id": "0d8d9174",
   "metadata": {},
   "outputs": [
    {
     "data": {
      "image/png": "[encoded data removed]",
      "text/plain": [
       "<Figure size 432x288 with 1 Axes>"
      ]
     },
     "metadata": {
      "needs_background": "light"
     },
     "output_type": "display_data"
    }
   ],
   "source": [
    "min_lengths_counter = Counter(min_lengths)\n",
    "num_min_lengths = list(min_lengths_counter.keys())\n",
    "min_lengths_frq = list(min_lengths_counter.values())\n",
    "plt.bar(num_min_lengths, min_lengths_frq, color='skyblue')\n",
    "plt.xlabel('Number')\n",
    "plt.ylabel('Frequency')\n",
    "plt.title('Frequency of min lengths')\n",
    "plt.xticks(num_min_lengths)  # Set the x-axis ticks to be the numbers\n",
    "plt.show()"
   ]
  },
  {
   "cell_type": "code",
   "execution_count": null,
   "id": "e2a08d3a",
   "metadata": {},
   "outputs": [],
   "source": []
  }
 ],
 "metadata": {
  "kernelspec": {
   "display_name": "Python 3 (ipykernel)",
   "language": "python",
   "name": "python3"
  },
  "language_info": {
   "codemirror_mode": {
    "name": "ipython",
    "version": 3
   },
   "file_extension": ".py",
   "mimetype": "text/x-python",
   "name": "python",
   "nbconvert_exporter": "python",
   "pygments_lexer": "ipython3",
   "version": "3.9.12"
  }
 },
 "nbformat": 4,
 "nbformat_minor": 5
}
